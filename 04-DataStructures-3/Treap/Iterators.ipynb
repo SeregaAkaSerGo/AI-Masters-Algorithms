{
 "cells": [
  {
   "cell_type": "code",
   "execution_count": 1,
   "id": "8f179c12",
   "metadata": {},
   "outputs": [],
   "source": [
    "a = [1,2,3]"
   ]
  },
  {
   "cell_type": "code",
   "execution_count": 2,
   "id": "6666dd15",
   "metadata": {},
   "outputs": [
    {
     "name": "stdout",
     "output_type": "stream",
     "text": [
      "1 2 3 "
     ]
    }
   ],
   "source": [
    "for x in a:\n",
    "    print(x, end=\" \")"
   ]
  },
  {
   "cell_type": "code",
   "execution_count": 3,
   "id": "22cf886b",
   "metadata": {},
   "outputs": [
    {
     "name": "stdout",
     "output_type": "stream",
     "text": [
      "1 2 3 "
     ]
    }
   ],
   "source": [
    "for x in iter(a):\n",
    "    print(x, end=\" \")"
   ]
  },
  {
   "cell_type": "code",
   "execution_count": 4,
   "id": "51d04c25",
   "metadata": {},
   "outputs": [
    {
     "data": {
      "text/plain": [
       "1"
      ]
     },
     "execution_count": 4,
     "metadata": {},
     "output_type": "execute_result"
    }
   ],
   "source": [
    "it = iter(a)\n",
    "next(it)"
   ]
  },
  {
   "cell_type": "code",
   "execution_count": 5,
   "id": "f379fc4a",
   "metadata": {},
   "outputs": [
    {
     "data": {
      "text/plain": [
       "2"
      ]
     },
     "execution_count": 5,
     "metadata": {},
     "output_type": "execute_result"
    }
   ],
   "source": [
    "next(it)"
   ]
  },
  {
   "cell_type": "code",
   "execution_count": 17,
   "id": "4a81710d",
   "metadata": {},
   "outputs": [],
   "source": [
    "class C: # Naive Iterator\n",
    "    def __init__(self):\n",
    "        self.a = [1,2,3]\n",
    "    \n",
    "    def __iter__(self):\n",
    "        self.cur = 0\n",
    "        return self \n",
    "        \n",
    "    def __next__(self):\n",
    "        if self.cur >= len(self.a):\n",
    "            raise StopIteration\n",
    "        self.cur += 1\n",
    "        return self.a[self.cur-1]"
   ]
  },
  {
   "cell_type": "code",
   "execution_count": 19,
   "id": "e5db752c",
   "metadata": {},
   "outputs": [
    {
     "data": {
      "text/plain": [
       "1"
      ]
     },
     "execution_count": 19,
     "metadata": {},
     "output_type": "execute_result"
    }
   ],
   "source": [
    "c = C()\n",
    "cit = iter(c)\n",
    "next(c)"
   ]
  },
  {
   "cell_type": "code",
   "execution_count": 20,
   "id": "e2da0018",
   "metadata": {},
   "outputs": [
    {
     "data": {
      "text/plain": [
       "2"
      ]
     },
     "execution_count": 20,
     "metadata": {},
     "output_type": "execute_result"
    }
   ],
   "source": [
    "next(c)"
   ]
  },
  {
   "cell_type": "code",
   "execution_count": 22,
   "id": "cfb8eb3d",
   "metadata": {},
   "outputs": [
    {
     "name": "stdout",
     "output_type": "stream",
     "text": [
      "x=1, y=1\n",
      "x=1, y=2\n",
      "x=1, y=3\n",
      "x=2, y=1\n",
      "x=2, y=2\n",
      "x=2, y=3\n",
      "x=3, y=1\n",
      "x=3, y=2\n",
      "x=3, y=3\n"
     ]
    }
   ],
   "source": [
    "for x in a:\n",
    "    for y in a:\n",
    "        print(f\"{x=}, {y=}\")"
   ]
  },
  {
   "cell_type": "code",
   "execution_count": 23,
   "id": "b0439a1d",
   "metadata": {},
   "outputs": [
    {
     "name": "stdout",
     "output_type": "stream",
     "text": [
      "x=1, y=1\n",
      "x=1, y=2\n",
      "x=1, y=3\n"
     ]
    }
   ],
   "source": [
    "for x in c:\n",
    "    for y in c:\n",
    "        print(f\"{x=}, {y=}\")"
   ]
  },
  {
   "cell_type": "code",
   "execution_count": 25,
   "id": "2b392f43",
   "metadata": {},
   "outputs": [],
   "source": [
    "class DIter:\n",
    "    def __init__(self, d):\n",
    "        self.cur = 0\n",
    "        self.obj = d\n",
    "            \n",
    "    def __next__(self):\n",
    "        if self.cur >= len(self.obj.a):\n",
    "            raise StopIteration\n",
    "        self.cur += 1\n",
    "        return self.obj.a[self.cur-1]\n",
    "\n",
    "class D: # Naive Iterator\n",
    "    def __init__(self):\n",
    "        self.a = [1,2,3]\n",
    "    \n",
    "    def __iter__(self):        \n",
    "        return DIter(self)\n"
   ]
  },
  {
   "cell_type": "code",
   "execution_count": 26,
   "id": "17a6038e",
   "metadata": {},
   "outputs": [
    {
     "name": "stdout",
     "output_type": "stream",
     "text": [
      "x=1, y=1\n",
      "x=1, y=2\n",
      "x=1, y=3\n",
      "x=2, y=1\n",
      "x=2, y=2\n",
      "x=2, y=3\n",
      "x=3, y=1\n",
      "x=3, y=2\n",
      "x=3, y=3\n"
     ]
    }
   ],
   "source": [
    "d = D()\n",
    "for x in d:\n",
    "    for y in d:\n",
    "        print(f\"{x=}, {y=}\")"
   ]
  },
  {
   "cell_type": "code",
   "execution_count": null,
   "id": "a4709807",
   "metadata": {},
   "outputs": [],
   "source": []
  }
 ],
 "metadata": {
  "kernelspec": {
   "display_name": "Python 3 (ipykernel)",
   "language": "python",
   "name": "python3"
  },
  "language_info": {
   "codemirror_mode": {
    "name": "ipython",
    "version": 3
   },
   "file_extension": ".py",
   "mimetype": "text/x-python",
   "name": "python",
   "nbconvert_exporter": "python",
   "pygments_lexer": "ipython3",
   "version": "3.9.12"
  }
 },
 "nbformat": 4,
 "nbformat_minor": 5
}
