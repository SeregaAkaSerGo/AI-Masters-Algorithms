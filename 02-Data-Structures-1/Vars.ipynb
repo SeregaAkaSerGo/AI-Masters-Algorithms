{
 "cells": [
  {
   "cell_type": "code",
   "execution_count": 1,
   "id": "b19238ba",
   "metadata": {},
   "outputs": [
    {
     "name": "stdout",
     "output_type": "stream",
     "text": [
      "a=2, b=1\n"
     ]
    }
   ],
   "source": [
    "a = 1\n",
    "b = a\n",
    "a += 1\n",
    "print(f\"{a=}, {b=}\")"
   ]
  },
  {
   "cell_type": "code",
   "execution_count": 2,
   "id": "7e36c526",
   "metadata": {},
   "outputs": [
    {
     "name": "stdout",
     "output_type": "stream",
     "text": [
      "a=[1, 1], b=[1]\n"
     ]
    }
   ],
   "source": [
    "a = [1]\n",
    "b = a\n",
    "a = a + [1]\n",
    "print(f\"{a=}, {b=}\")"
   ]
  },
  {
   "cell_type": "code",
   "execution_count": 3,
   "id": "ba2a1389",
   "metadata": {},
   "outputs": [
    {
     "name": "stdout",
     "output_type": "stream",
     "text": [
      "a=[1, 1], b=[1, 1]\n"
     ]
    }
   ],
   "source": [
    "a = [1]\n",
    "b = a\n",
    "a += [1] // (!=) a = a + [1]\n",
    "print(f\"{a=}, {b=}\")"
   ]
  },
  {
   "cell_type": "code",
   "execution_count": 4,
   "id": "36c97986",
   "metadata": {},
   "outputs": [
    {
     "name": "stdout",
     "output_type": "stream",
     "text": [
      "a=[1, 1, 1, 1], b=[1, 1, 1, 1]\n"
     ]
    }
   ],
   "source": [
    "a+=b\n",
    "print(f\"{a=}, {b=}\")"
   ]
  },
  {
   "cell_type": "code",
   "execution_count": 5,
   "id": "91d1bb34",
   "metadata": {},
   "outputs": [
    {
     "name": "stdout",
     "output_type": "stream",
     "text": [
      "a=[1, 1, 1, 1, [...]], b=[1, 1, 1, 1, [...]]\n"
     ]
    }
   ],
   "source": [
    "a+=[b]\n",
    "print(f\"{a=}, {b=}\")"
   ]
  },
  {
   "cell_type": "code",
   "execution_count": 6,
   "id": "314675e5",
   "metadata": {},
   "outputs": [
    {
     "data": {
      "text/plain": [
       "[1, 1, 1, 1, [...]]"
      ]
     },
     "execution_count": 6,
     "metadata": {},
     "output_type": "execute_result"
    }
   ],
   "source": [
    "a[4]"
   ]
  },
  {
   "cell_type": "code",
   "execution_count": 8,
   "id": "f2e58a53",
   "metadata": {},
   "outputs": [],
   "source": [
    "a[4][4][4][4][0] = 2"
   ]
  },
  {
   "cell_type": "code",
   "execution_count": 9,
   "id": "fbb55bc4",
   "metadata": {},
   "outputs": [
    {
     "data": {
      "text/plain": [
       "[2, 1, 1, 1, [...]]"
      ]
     },
     "execution_count": 9,
     "metadata": {},
     "output_type": "execute_result"
    }
   ],
   "source": [
    "a"
   ]
  },
  {
   "cell_type": "code",
   "execution_count": 10,
   "id": "b1f0e3ff",
   "metadata": {},
   "outputs": [
    {
     "name": "stdout",
     "output_type": "stream",
     "text": [
      "a=[1, 1], b=[1]\n"
     ]
    }
   ],
   "source": [
    "a = [1]\n",
    "b = a.copy()\n",
    "a += [1]\n",
    "print(f\"{a=}, {b=}\")"
   ]
  },
  {
   "cell_type": "code",
   "execution_count": 11,
   "id": "5453857a",
   "metadata": {},
   "outputs": [],
   "source": [
    "h = [10,1,13,13,17]"
   ]
  },
  {
   "cell_type": "code",
   "execution_count": 12,
   "id": "aa82d75f",
   "metadata": {},
   "outputs": [],
   "source": [
    "import heapq"
   ]
  },
  {
   "cell_type": "code",
   "execution_count": 13,
   "id": "f699ff8e",
   "metadata": {},
   "outputs": [
    {
     "data": {
      "text/plain": [
       "[1, 10, 13, 13, 17]"
      ]
     },
     "execution_count": 13,
     "metadata": {},
     "output_type": "execute_result"
    }
   ],
   "source": [
    "heapq.heapify(h)\n",
    "h"
   ]
  },
  {
   "cell_type": "code",
   "execution_count": 14,
   "id": "7382e8d6",
   "metadata": {},
   "outputs": [
    {
     "data": {
      "text/plain": [
       "[0, 10, 1, 13, 17, 13]"
      ]
     },
     "execution_count": 14,
     "metadata": {},
     "output_type": "execute_result"
    }
   ],
   "source": [
    "heapq.heappush(h, 0)\n",
    "h"
   ]
  },
  {
   "cell_type": "code",
   "execution_count": 24,
   "id": "83db4fb4",
   "metadata": {},
   "outputs": [
    {
     "data": {
      "text/plain": [
       "[13, 13, 1, 0, 10]"
      ]
     },
     "execution_count": 24,
     "metadata": {},
     "output_type": "execute_result"
    }
   ],
   "source": [
    "heapq._heapify_max(h)\n",
    "h"
   ]
  },
  {
   "cell_type": "code",
   "execution_count": 26,
   "id": "647424e8",
   "metadata": {},
   "outputs": [
    {
     "ename": "AttributeError",
     "evalue": "module 'heapq' has no attribute '_heappush_max'",
     "output_type": "error",
     "traceback": [
      "\u001b[0;31m---------------------------------------------------------------------------\u001b[0m",
      "\u001b[0;31mAttributeError\u001b[0m                            Traceback (most recent call last)",
      "Input \u001b[0;32mIn [26]\u001b[0m, in \u001b[0;36m<cell line: 1>\u001b[0;34m()\u001b[0m\n\u001b[0;32m----> 1\u001b[0m \u001b[43mheapq\u001b[49m\u001b[38;5;241;43m.\u001b[39;49m\u001b[43m_heappush_max\u001b[49m(h, \u001b[38;5;241m18\u001b[39m)\n\u001b[1;32m      2\u001b[0m h\n",
      "\u001b[0;31mAttributeError\u001b[0m: module 'heapq' has no attribute '_heappush_max'"
     ]
    }
   ],
   "source": [
    "heapq._heappush_max(h, 18)\n",
    "h"
   ]
  },
  {
   "cell_type": "code",
   "execution_count": 22,
   "id": "2f0d3165",
   "metadata": {},
   "outputs": [],
   "source": [
    "d = {}\n",
    "d[\"123\"] = 1"
   ]
  },
  {
   "cell_type": "code",
   "execution_count": 23,
   "id": "a763658a",
   "metadata": {},
   "outputs": [
    {
     "data": {
      "text/plain": [
       "1"
      ]
     },
     "execution_count": 23,
     "metadata": {},
     "output_type": "execute_result"
    }
   ],
   "source": [
    "d[\"123\"]"
   ]
  },
  {
   "cell_type": "code",
   "execution_count": null,
   "id": "f9e7c623",
   "metadata": {},
   "outputs": [],
   "source": []
  }
 ],
 "metadata": {
  "kernelspec": {
   "display_name": "Python 3 (ipykernel)",
   "language": "python",
   "name": "python3"
  },
  "language_info": {
   "codemirror_mode": {
    "name": "ipython",
    "version": 3
   },
   "file_extension": ".py",
   "mimetype": "text/x-python",
   "name": "python",
   "nbconvert_exporter": "python",
   "pygments_lexer": "ipython3",
   "version": "3.9.12"
  }
 },
 "nbformat": 4,
 "nbformat_minor": 5
}
